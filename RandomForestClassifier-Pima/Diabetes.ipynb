{
 "cells": [
  {
   "cell_type": "code",
   "execution_count": 69,
   "metadata": {},
   "outputs": [],
   "source": [
    "import pandas as pd\n",
    "import numpy as np\n",
    "from sklearn.model_selection import train_test_split\n",
    "from collections import Counter\n",
    "from xgboost import XGBClassifier\n",
    "from sklearn.metrics import classification_report, confusion_matrix\n",
    "\n"
   ]
  },
  {
   "cell_type": "code",
   "execution_count": 70,
   "metadata": {},
   "outputs": [
    {
     "name": "stdout",
     "output_type": "stream",
     "text": [
      "   Pregnancies  Glucose  BloodPressure  SkinThickness  Insulin   BMI  \\\n",
      "0            6      148             72             35        0  33.6   \n",
      "1            1       85             66             29        0  26.6   \n",
      "2            8      183             64              0        0  23.3   \n",
      "3            1       89             66             23       94  28.1   \n",
      "4            0      137             40             35      168  43.1   \n",
      "\n",
      "   DiabetesPedigreeFunction  Age  Outcome  \n",
      "0                     0.627   50        1  \n",
      "1                     0.351   31        0  \n",
      "2                     0.672   32        1  \n",
      "3                     0.167   21        0  \n",
      "4                     2.288   33        1  \n"
     ]
    }
   ],
   "source": [
    "df = pd.read_csv(\"diabetes.csv\")\n",
    "print(df.head())"
   ]
  },
  {
   "cell_type": "code",
   "execution_count": 71,
   "metadata": {},
   "outputs": [
    {
     "name": "stdout",
     "output_type": "stream",
     "text": [
      "Counter({0: 500, 1: 268})\n"
     ]
    }
   ],
   "source": [
    "print(Counter(df[\"Outcome\"]))"
   ]
  },
  {
   "cell_type": "code",
   "execution_count": 72,
   "metadata": {},
   "outputs": [
    {
     "data": {
      "text/plain": [
       "Pregnancies                 111\n",
       "Glucose                       5\n",
       "BloodPressure                35\n",
       "SkinThickness               227\n",
       "Insulin                     374\n",
       "BMI                          11\n",
       "DiabetesPedigreeFunction      0\n",
       "Age                           0\n",
       "Outcome                     500\n",
       "dtype: int64"
      ]
     },
     "execution_count": 72,
     "metadata": {},
     "output_type": "execute_result"
    }
   ],
   "source": [
    "(df == 0).sum()  # Count zeros per column\n"
   ]
  },
  {
   "cell_type": "code",
   "execution_count": 73,
   "metadata": {},
   "outputs": [
    {
     "name": "stdout",
     "output_type": "stream",
     "text": [
      "Pregnancies                   0\n",
      "Glucose                       5\n",
      "BloodPressure                35\n",
      "SkinThickness               227\n",
      "Insulin                     374\n",
      "BMI                          11\n",
      "DiabetesPedigreeFunction      0\n",
      "Age                           0\n",
      "Outcome                       0\n",
      "dtype: int64\n"
     ]
    }
   ],
   "source": [
    "columns_with_zeros = [\"Glucose\", \"BloodPressure\", \"SkinThickness\", \"Insulin\", \"BMI\"]\n",
    "df[columns_with_zeros] = df[columns_with_zeros].replace(0, np.nan)\n",
    "print(df.isnull().sum()) \n"
   ]
  },
  {
   "cell_type": "code",
   "execution_count": 74,
   "metadata": {},
   "outputs": [],
   "source": [
    "X = df.drop(columns=[\"Outcome\"])\n",
    "y = df[\"Outcome\"]\n",
    "X_train, X_test, y_train, y_test = train_test_split(X, y, test_size=0.2, stratify=y, random_state=42)\n"
   ]
  },
  {
   "cell_type": "code",
   "execution_count": 75,
   "metadata": {},
   "outputs": [],
   "source": [
    "def cal_median(X_train, y_train, target_col): #Function to calculate median per varible\n",
    "    temp_df = X_train.copy()\n",
    "    temp_df[\"Outcome\"] = y_train \n",
    "    medians = temp_df.groupby(\"Outcome\")[target_col].median()\n",
    "    return medians\n",
    "\n",
    "def median_imputation(X, y, target_col, class_medians): #Function to apply median imputation\n",
    "    for cls, median_value in class_medians.items():\n",
    "        X.loc[(X[target_col].isnull()) & (y == cls), target_col] = median_value\n",
    "    return X\n",
    "\n",
    "#Compute medians based on the training set\n",
    "medians_glucose = cal_median(X_train, y_train, \"Glucose\")\n",
    "medians_bp = cal_median(X_train, y_train, \"BloodPressure\")\n",
    "medians_skin = cal_median(X_train, y_train, \"SkinThickness\")\n",
    "medians_insulin = cal_median(X_train, y_train, \"Insulin\")\n",
    "medians_bmi = cal_median(X_train, y_train, \"BMI\")\n",
    "\n",
    "#Impute the missing values for the training set and the test set based on the median from the training set\n",
    "X_train = median_imputation(X_train, y_train, \"Glucose\", medians_glucose)\n",
    "X_train = median_imputation(X_train, y_train, \"BloodPressure\", medians_bp)\n",
    "X_train = median_imputation(X_train, y_train, \"SkinThickness\", medians_skin)\n",
    "X_train = median_imputation(X_train, y_train, \"Insulin\", medians_insulin)\n",
    "X_train = median_imputation(X_train, y_train, \"BMI\", medians_bmi)\n",
    "\n",
    "X_test = median_imputation(X_test, y_test, \"Glucose\", medians_glucose)\n",
    "X_test = median_imputation(X_test, y_test, \"BloodPressure\", medians_bp)\n",
    "X_test = median_imputation(X_test, y_test, \"SkinThickness\", medians_skin)\n",
    "X_test = median_imputation(X_test, y_test, \"Insulin\", medians_insulin)\n",
    "X_test = median_imputation(X_test, y_test, \"BMI\", medians_bmi)\n"
   ]
  },
  {
   "cell_type": "code",
   "execution_count": 76,
   "metadata": {},
   "outputs": [
    {
     "name": "stdout",
     "output_type": "stream",
     "text": [
      "XGBoost Confusion Matrix:\n",
      " [[91  9]\n",
      " [ 8 46]]\n",
      "XGBoost Classification Report:\n",
      "               precision    recall  f1-score   support\n",
      "\n",
      "           0       0.92      0.91      0.91       100\n",
      "           1       0.84      0.85      0.84        54\n",
      "\n",
      "    accuracy                           0.89       154\n",
      "   macro avg       0.88      0.88      0.88       154\n",
      "weighted avg       0.89      0.89      0.89       154\n",
      "\n"
     ]
    },
    {
     "name": "stderr",
     "output_type": "stream",
     "text": [
      "/Users/lucasleverstrom/opt/anaconda3/envs/myenv/lib/python3.12/site-packages/xgboost/core.py:158: UserWarning: [13:25:47] WARNING: /Users/runner/work/xgboost/xgboost/src/learner.cc:740: \n",
      "Parameters: { \"use_label_encoder\" } are not used.\n",
      "\n",
      "  warnings.warn(smsg, UserWarning)\n"
     ]
    }
   ],
   "source": [
    "class_counts = Counter(y_train)\n",
    "scale_pos_weight = class_counts[0] / class_counts[1] #Calculating the class imbalance\n",
    "\n",
    "xgb = XGBClassifier(use_label_encoder=False, eval_metric=\"logloss\", max_depth=5, min_child_weight=1, gamma=0, scale_pos_weight=scale_pos_weight, random_state=42)\n",
    "xgb.fit(X_train, y_train)\n",
    "y_pred_prob = xgb.predict_proba(X_test)[:, 1]\n",
    "\n",
    "new_threshold = 0.4  #Adjusting the classification threshold to achieve higher recall without harming accuracy too much\n",
    "y_pred_xgb = (y_pred_prob > new_threshold).astype(int)\n",
    "\n",
    "print(\"XGBoost Confusion Matrix:\\n\", confusion_matrix(y_test, y_pred_xgb))\n",
    "print(\"XGBoost Classification Report:\\n\", classification_report(y_test, y_pred_xgb))\n"
   ]
  }
 ],
 "metadata": {
  "kernelspec": {
   "display_name": "myenv",
   "language": "python",
   "name": "python3"
  },
  "language_info": {
   "codemirror_mode": {
    "name": "ipython",
    "version": 3
   },
   "file_extension": ".py",
   "mimetype": "text/x-python",
   "name": "python",
   "nbconvert_exporter": "python",
   "pygments_lexer": "ipython3",
   "version": "3.12.5"
  },
  "orig_nbformat": 4,
  "vscode": {
   "interpreter": {
    "hash": "684ff43e33061ad1880c5801bcaf42e322e7f83bffbde2c4381d6344dc2d1c33"
   }
  }
 },
 "nbformat": 4,
 "nbformat_minor": 2
}
